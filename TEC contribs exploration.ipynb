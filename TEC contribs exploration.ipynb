{
 "cells": [
  {
   "cell_type": "code",
   "execution_count": 1,
   "id": "5a562253-74f6-44e4-a9ec-98aeb1ee8fd8",
   "metadata": {},
   "outputs": [],
   "source": [
    "import pandas as pd\n",
    "import sqlite3\n",
    "\n",
    "import pygwalker as pyg\n",
    "\n",
    "from datetime import datetime\n",
    "\n",
    "# TEC CSV database - all contribs CSV files converted to SQLite DB\n",
    "contribs_db = \"20230801194240_TEC contribs.db\"\n"
   ]
  },
  {
   "cell_type": "code",
   "execution_count": 2,
   "id": "a7ed3ea0-43a8-47ed-b022-502cd73bbac1",
   "metadata": {},
   "outputs": [
    {
     "name": "stdout",
     "output_type": "stream",
     "text": [
      "       Member Name Freshman  District # Chamber Years Served Sessions Served  \\\n",
      "0     Abel Herrero      NaN          34       H  2013 - 2025     83rd - 88th   \n",
      "1       Alma Allen      NaN         131       H  2005 - 2025     79th - 88th   \n",
      "2    Ana Hernandez        v         143       H  2005 - 2025     79th - 88th   \n",
      "3  Ana-Maria Ramos      NaN         102       H  2019 - 2025     86th - 88th   \n",
      "4      Andrew Murr      NaN          53       H  2015 - 2025     84th - 88th   \n",
      "\n",
      "  Party        City  County  Twitter Handle  Filer ID  \n",
      "0     D    Robstown  Nueces  RepAbelHerrero     54318  \n",
      "1     D     Houston  Harris   RepAllenTX131     19673  \n",
      "2     D     Houston  Harris        AnaHdzTx     57411  \n",
      "3     D  Richardson  Dallas     Ramos4Texas     81730  \n",
      "4     R    Junction  Kimble             NaN     69565  \n"
     ]
    }
   ],
   "source": [
    "texas_legislators_df = pd.read_csv(\"InfiniteTransparency - txlege.csv\")\n",
    "\n",
    "print(texas_legislators_df.head())"
   ]
  },
  {
   "cell_type": "code",
   "execution_count": 3,
   "id": "3cd552eb-d5a5-4a52-81b3-ef06bb1f16fd",
   "metadata": {},
   "outputs": [
    {
     "name": "stdout",
     "output_type": "stream",
     "text": [
      "['Abel Herrero' 'Alma Allen' 'Ana Hernandez' 'Ana-Maria Ramos'\n",
      " 'Andrew Murr' 'Angela Paxton' 'Angelia Orr' 'Angie Chen Button'\n",
      " 'Ann Johnson' 'Armando Martinez' 'Armando Walle' 'Barbara Gervin-Hawkins'\n",
      " 'Benjamin Bumgarner' 'Bob Hall' 'Borris Miles' 'Brad Buckley'\n",
      " 'Brandon Creighton' 'Brian Birdwell' 'Brian Harrison' 'Briscoe Cain'\n",
      " 'Brooks Landgraf' 'Bryan Hughes' 'Candy Noble' 'Carl H. Tepper'\n",
      " 'Carl Sherman, Sr.' 'Carol Alvarado' 'Caroline Harris' 'Carrie Isaac'\n",
      " 'Cecil Bell, Jr.' 'César Blanco' \"Charles 'Doc' Anderson\"\n",
      " 'Charles Cunningham' 'Charles Perry' 'Charles Schwertner' 'Charlie Geren'\n",
      " 'Chris Turner' 'Christian Manuel' 'Christina Morales' 'Claudia Ordaz'\n",
      " 'Cody Harris' 'Cody Vasut' 'Cole Hefner' 'Craig Goldman' 'Dade Phelan'\n",
      " 'David Cook' 'David Spiller' 'Dennis Paul' 'DeWayne Burns' 'Diego Bernal'\n",
      " 'Donna Campbell' 'Donna Howard' 'Drew Darby' 'Drew Springer'\n",
      " 'Dustin Burrows' 'Ed Thompson' 'Eddie Morales' 'Ellen Troxclair'\n",
      " 'Erin Elizabeth Gámez' 'Erin Zwiener' 'Ernest Bailes' 'Four Price'\n",
      " 'Frederick Frazier' 'Gary Gates' 'Gary VanDeaver' 'Geanie Morrison'\n",
      " 'Gene Wu' 'Gina Hinojosa' 'Giovanni Capriglione' 'Glenn Rogers'\n",
      " 'Greg Bonnen' 'Harold V. Dutton, Jr.' 'Hubert Vo' 'Hugh Shine'\n",
      " 'J.M. Lozano' 'Jacey Jetton' 'James Frank' 'James Talarico' 'Janie Lopez'\n",
      " 'Jared Patterson' 'Jarvis Johnson' 'Jay Dean' 'Jeff Leach'\n",
      " 'Jessica González' 'Joan Huffman' 'Joe Moody' 'John Bryant'\n",
      " 'John H. Bucy III' 'John Kuempel' 'John Lujan' 'John Raney'\n",
      " 'John Smithee' 'John Whitmire' \"Jolanda 'Jo' Jones\" 'Jon Rosenthal'\n",
      " 'José Menéndez' 'Josey Garcia' \"Juan 'Chuy' Hinojosa\" 'Judith Zaffirini'\n",
      " 'Julie Johnson' 'Justin Holland' 'Keith Bell' 'Kelly Hancock' 'Ken King'\n",
      " 'Kevin Sparks' 'Kronda Thimesch' 'Kyle Kacal' 'Lacey Hull' 'Lina Ortega'\n",
      " 'Liz Campos' 'Lois W. Kolkhorst' 'Lulu Flores' 'Lynn Stucky'\n",
      " 'Mano DeAyala' 'Mark Dorazio' 'Mary Ann Perez' 'Mary González'\n",
      " 'Matt Schaefer' 'Matt Shaheen' 'Mayes Middleton' 'Mihaela Plesa'\n",
      " 'Mike Schofield' 'Morgan LaMantia' 'Morgan Meyer' 'Nate Schatzline'\n",
      " 'Nathan Johnson' 'Nicole Collier' 'Oscar Longoria' 'Paul Bettencourt'\n",
      " 'Penny Morales Shaw' 'Pete Flores' 'Phil King' 'Philip Cortez'\n",
      " \"R.D. 'Bobby' Guerra\" 'Rafael Anchía' 'Ramon Romero, Jr.' 'Ray López'\n",
      " 'Reggie Smith' 'Rhetta Bowers' 'Richard Hayes' 'Richard Peña Raymond'\n",
      " 'Robert Nichols' 'Roland Gutierrez' 'Ron Reynolds' 'Royce West'\n",
      " 'Ryan Guillen' 'Salman Bhojani' 'Sam Harless' 'Sarah Eckhardt'\n",
      " 'Senfronia Thompson' 'Sergio Muñoz, Jr.' 'Shawn Thierry' 'Shelby Slawson'\n",
      " 'Sheryl Cole' 'Stan Gerdes' 'Stan Kitzman' 'Stan Lambert'\n",
      " 'Stephanie Klick' 'Steve Allison' 'Steve Toth' 'Suleman Lalani'\n",
      " 'Tan Parker' 'Terri Leo-Wilson' 'Terry Canales' 'Terry Meza'\n",
      " 'Terry Wilson' 'Todd Hunter' 'Tom Craddick' 'Tom Oliverson' 'Toni Rose'\n",
      " 'Tony Tinderholt' 'Tracy O. King' 'Travis Clardy' 'Trent Ashby'\n",
      " 'Trey Martinez Fischer' 'Valoree Swanson' 'Venton Jones'\n",
      " 'Victoria Neave Criado' 'Vikki Goodwin' 'Will Metcalf' 'Yvonne Davis']\n"
     ]
    }
   ],
   "source": [
    "texas_legislators = texas_legislators_df[\"Member Name\"].unique()\n",
    "\n",
    "print(texas_legislators)"
   ]
  },
  {
   "cell_type": "code",
   "execution_count": 4,
   "id": "8dd4f736-37ab-463d-bae3-92a219e445e7",
   "metadata": {},
   "outputs": [
    {
     "name": "stdout",
     "output_type": "stream",
     "text": [
      "  recordType formTypeCd schedFormTypeCd  reportInfoIdent  receivedDt  \\\n",
      "0       RCPT        COH              A1           538277  20120716.0   \n",
      "1       RCPT        COH              A1           498895  20110715.0   \n",
      "2       RCPT        COH              A1           559912  20130115.0   \n",
      "3       RCPT        COH              A1           498895  20110715.0   \n",
      "4       RCPT     CORCOH              A1           470994  20101215.0   \n",
      "\n",
      "  infoOnlyFlag  filerIdent filerTypeCd                      filerName  \\\n",
      "0            N       55499         COH  Aliseda, Jose (The Honorable)   \n",
      "1            N       55499         COH                  Aliseda, Jose   \n",
      "2            N       55499         COH            Aliseda, Jose (Mr.)   \n",
      "3            N       55499         COH                  Aliseda, Jose   \n",
      "4            N       55499         COH            Aliseda, Jose (Mr.)   \n",
      "\n",
      "   contributionInfoId  ...  contributorStreetRegion  contributorEmployer  \\\n",
      "0           109697898  ...                     None           State Farm   \n",
      "1           109697900  ...                     None                 None   \n",
      "2           109697902  ...                     None                 None   \n",
      "3           109697903  ...                     None                 None   \n",
      "4           109697905  ...                     None                 None   \n",
      "\n",
      "  contributorOccupation contributorJobTitle contributorPacFein  \\\n",
      "0       Insurance Agent                None               None   \n",
      "1                  None                None               None   \n",
      "2                  None                None               None   \n",
      "3                  None                None               None   \n",
      "4                  None                None               None   \n",
      "\n",
      "  contributorOosPacFlag contributorLawFirmName contributorSpouseLawFirmName  \\\n",
      "0                     N                   None                         None   \n",
      "1                     N                   None                         None   \n",
      "2                     N                   None                         None   \n",
      "3                     N                   None                         None   \n",
      "4                     N                   None                         None   \n",
      "\n",
      "  contributorParent1LawFirmName contributorParent2LawFirmName  \n",
      "0                          None                          None  \n",
      "1                          None                          None  \n",
      "2                          None                          None  \n",
      "3                          None                          None  \n",
      "4                          None                          None  \n",
      "\n",
      "[5 rows x 37 columns]\n"
     ]
    }
   ],
   "source": [
    "# WANT: filerIdent, formTypeCd, filerName\n",
    "\n",
    "def sqlite_to_df(database, table_name):\n",
    "    # Establish a connection to the SQLite database\n",
    "    conn = sqlite3.connect(database)\n",
    "    \n",
    "    # Write a SQL query to select all records from the table\n",
    "    query = f'SELECT * FROM {table_name} WHERE \"filerTypeCd\" = \"COH\"'\n",
    "    \n",
    "    # Use pandas to run the SQL query and load the result into a DataFrame\n",
    "    df = pd.read_sql_query(query, conn)\n",
    "    \n",
    "    # Close the connection to the SQLite database\n",
    "    conn.close()\n",
    "    \n",
    "    # Return the DataFrame\n",
    "    return df\n",
    "\n",
    "df = sqlite_to_df(contribs_db, \"contribs\")\n",
    "\n",
    "print(df.head())"
   ]
  },
  {
   "cell_type": "code",
   "execution_count": 5,
   "id": "c791041e-be63-4a09-9c70-37ad71a53b65",
   "metadata": {},
   "outputs": [
    {
     "name": "stdout",
     "output_type": "stream",
     "text": [
      "2763824\n"
     ]
    }
   ],
   "source": [
    "print(df.shape[0])\n"
   ]
  },
  {
   "cell_type": "code",
   "execution_count": 6,
   "id": "b7afdb10-5051-4bc4-aa50-8dca36d1903a",
   "metadata": {},
   "outputs": [],
   "source": [
    "txlege_tec_filer_ids = texas_legislators_df[\"Filer ID\"].unique()"
   ]
  },
  {
   "cell_type": "code",
   "execution_count": 7,
   "id": "17e850e2-d001-4387-90e6-bd8cfbfefd09",
   "metadata": {},
   "outputs": [],
   "source": [
    "current_txlege_all_historical_contribs = df[df[\"filerIdent\"].isin(txlege_tec_filer_ids)]"
   ]
  },
  {
   "cell_type": "code",
   "execution_count": 8,
   "id": "eba4ad42-688d-4c8e-9a2b-30d5b4096929",
   "metadata": {},
   "outputs": [
    {
     "name": "stdout",
     "output_type": "stream",
     "text": [
      "605239\n"
     ]
    }
   ],
   "source": [
    "print(current_txlege_all_historical_contribs.shape[0])"
   ]
  },
  {
   "cell_type": "code",
   "execution_count": 9,
   "id": "35fd392d-fb14-4e64-bedb-dbb2f07cb677",
   "metadata": {},
   "outputs": [],
   "source": [
    "master_txlege_contribs_df = pd.merge(current_txlege_all_historical_contribs, texas_legislators_df[[\"Member Name\", \"District #\", \"Chamber\", \"Party\", \"City\", \"County\", \"Filer ID\"]], how=\"left\", left_on=\"filerIdent\", right_on=\"Filer ID\")"
   ]
  },
  {
   "cell_type": "code",
   "execution_count": 10,
   "id": "014a0aab-b6ec-4840-a8d1-e1b39a11df2e",
   "metadata": {},
   "outputs": [
    {
     "name": "stdout",
     "output_type": "stream",
     "text": [
      "  recordType formTypeCd schedFormTypeCd  reportInfoIdent  receivedDt  \\\n",
      "0       RCPT        COH              A1           291854  20051202.0   \n",
      "1       RCPT        COH              A1           361398  20080115.0   \n",
      "2       RCPT        COH              A1           290394  20051031.0   \n",
      "3       RCPT        COH              A1           361398  20080115.0   \n",
      "4       RCPT        COH              A2           290394  20051031.0   \n",
      "\n",
      "  infoOnlyFlag  filerIdent filerTypeCd                filerName  \\\n",
      "0            Y       57411         COH  Hernandez, Ana E. (Ms.)   \n",
      "1            N       57411         COH  Hernandez, Ana E. (Ms.)   \n",
      "2            N       57411         COH  Hernandez, Ana E. (Ms.)   \n",
      "3            N       57411         COH  Hernandez, Ana E. (Ms.)   \n",
      "4            N       57411         COH  Hernandez, Ana E. (Ms.)   \n",
      "\n",
      "   contributionInfoId  ...  contributorSpouseLawFirmName  \\\n",
      "0           109901468  ...                          None   \n",
      "1           109901469  ...                          None   \n",
      "2           109901470  ...                          None   \n",
      "3           109901471  ...                          None   \n",
      "4           109901472  ...                          None   \n",
      "\n",
      "   contributorParent1LawFirmName contributorParent2LawFirmName    Member Name  \\\n",
      "0                           None                          None  Ana Hernandez   \n",
      "1                           None                          None  Ana Hernandez   \n",
      "2                           None                          None  Ana Hernandez   \n",
      "3                           None                          None  Ana Hernandez   \n",
      "4                           None                          None  Ana Hernandez   \n",
      "\n",
      "  District # Chamber Party     City  County Filer ID  \n",
      "0        143       H     D  Houston  Harris    57411  \n",
      "1        143       H     D  Houston  Harris    57411  \n",
      "2        143       H     D  Houston  Harris    57411  \n",
      "3        143       H     D  Houston  Harris    57411  \n",
      "4        143       H     D  Houston  Harris    57411  \n",
      "\n",
      "[5 rows x 44 columns]\n"
     ]
    }
   ],
   "source": [
    "print(master_txlege_contribs_df.head())"
   ]
  },
  {
   "cell_type": "code",
   "execution_count": 11,
   "id": "8f379358-2387-4146-a653-379dc8121e0e",
   "metadata": {},
   "outputs": [
    {
     "name": "stdout",
     "output_type": "stream",
     "text": [
      "  recordType formTypeCd schedFormTypeCd  reportInfoIdent receivedDt  \\\n",
      "0       RCPT        COH              A1           291854 2005-12-02   \n",
      "1       RCPT        COH              A1           361398 2008-01-15   \n",
      "2       RCPT        COH              A1           290394 2005-10-31   \n",
      "3       RCPT        COH              A1           361398 2008-01-15   \n",
      "4       RCPT        COH              A2           290394 2005-10-31   \n",
      "\n",
      "  infoOnlyFlag  filerIdent filerTypeCd                filerName  \\\n",
      "0            Y       57411         COH  Hernandez, Ana E. (Ms.)   \n",
      "1            N       57411         COH  Hernandez, Ana E. (Ms.)   \n",
      "2            N       57411         COH  Hernandez, Ana E. (Ms.)   \n",
      "3            N       57411         COH  Hernandez, Ana E. (Ms.)   \n",
      "4            N       57411         COH  Hernandez, Ana E. (Ms.)   \n",
      "\n",
      "   contributionInfoId  ... contributorSpouseLawFirmName  \\\n",
      "0           109901468  ...                         None   \n",
      "1           109901469  ...                         None   \n",
      "2           109901470  ...                         None   \n",
      "3           109901471  ...                         None   \n",
      "4           109901472  ...                         None   \n",
      "\n",
      "   contributorParent1LawFirmName contributorParent2LawFirmName    Member Name  \\\n",
      "0                           None                          None  Ana Hernandez   \n",
      "1                           None                          None  Ana Hernandez   \n",
      "2                           None                          None  Ana Hernandez   \n",
      "3                           None                          None  Ana Hernandez   \n",
      "4                           None                          None  Ana Hernandez   \n",
      "\n",
      "  District # Chamber Party     City  County Filer ID  \n",
      "0        143       H     D  Houston  Harris    57411  \n",
      "1        143       H     D  Houston  Harris    57411  \n",
      "2        143       H     D  Houston  Harris    57411  \n",
      "3        143       H     D  Houston  Harris    57411  \n",
      "4        143       H     D  Houston  Harris    57411  \n",
      "\n",
      "[5 rows x 44 columns]\n"
     ]
    }
   ],
   "source": [
    "import math\n",
    "\n",
    "def convert_to_datetime(s):\n",
    "    try:\n",
    "        if s is not None and type(s) is float and math.isnan(s) is not True:\n",
    "            # Convert to number then to integer\n",
    "            s2 = str(int(s))\n",
    "            \n",
    "            # Parse as a date\n",
    "            d = datetime.strptime(s2, \"%Y%m%d\")\n",
    "        \n",
    "            return d\n",
    "        else:\n",
    "            return None\n",
    "    except Exception as e:\n",
    "        print(e, s, type(s))\n",
    "\n",
    "master_txlege_contribs_df[\"receivedDt\"] = master_txlege_contribs_df[\"receivedDt\"].apply(convert_to_datetime)\n",
    "master_txlege_contribs_df[\"contributionDt\"] = master_txlege_contribs_df[\"contributionDt\"].apply(convert_to_datetime)\n",
    "\n",
    "print(master_txlege_contribs_df.head())"
   ]
  },
  {
   "cell_type": "code",
   "execution_count": 12,
   "id": "8a8b463c-bd3b-4c59-93be-0965d428bacd",
   "metadata": {},
   "outputs": [
    {
     "name": "stdout",
     "output_type": "stream",
     "text": [
      "605239\n"
     ]
    }
   ],
   "source": [
    "print(master_txlege_contribs_df.shape[0])"
   ]
  },
  {
   "cell_type": "code",
   "execution_count": 13,
   "id": "7deea158-b25a-44bf-9131-7c308b8c1c9c",
   "metadata": {},
   "outputs": [],
   "source": [
    "master_txlege_contribs_df.to_excel(\"Current TxLege All Historic Contributions.xlsx\", index=False)\n",
    "\n",
    "# Assuming `df` is your DataFrame\n",
    "sample_df = master_txlege_contribs_df.sample(n=5000)  # Generates a random sample of 5000 rows from the DataFrame\n",
    "sample_df.to_csv('sample_data.csv', index=False)\n"
   ]
  },
  {
   "cell_type": "code",
   "execution_count": 20,
   "id": "d14f924a-9221-4d26-8d4a-b5031512f932",
   "metadata": {},
   "outputs": [],
   "source": [
    "def generate_html_dropdown_updated_v4(data, columns, output_file):\n",
    "    # Define the basic structure of the HTML file\n",
    "    html = \"\"\"\n",
    "    <!DOCTYPE html>\n",
    "    <html lang=\"en\">\n",
    "    <head>\n",
    "        <meta charset=\"UTF-8\">\n",
    "        <meta name=\"viewport\" content=\"width=device-width, initial-scale=1.0\">\n",
    "        <title>88th TXLege - Dark Money in Pub Ed</title>\n",
    "        <!-- Include Bootstrap CSS and JS from a CDN -->\n",
    "        <link rel=\"stylesheet\" href=\"https://stackpath.bootstrapcdn.com/bootstrap/4.5.0/css/bootstrap.min.css\">\n",
    "        <script src=\"https://code.jquery.com/jquery-3.5.1.slim.min.js\"></script>\n",
    "        <script src=\"https://stackpath.bootstrapcdn.com/bootstrap/4.5.0/js/bootstrap.min.js\"></script>\n",
    "    </head>\n",
    "    <body>\n",
    "        <div class=\"container\">\n",
    "            <h1 class=\"my-4\">88th TXLege - Dark Money in Pub Ed</h1>\n",
    "            <select id=\"membersDropdown\" class=\"form-control\" onchange=\"openModal(this.value)\">\n",
    "    \"\"\"\n",
    "\n",
    "    # Sort the data by chamber, party, and Member Name\n",
    "    sorted_data = data.sort_values(by=['Chamber', 'Party', 'Member Name'])\n",
    "\n",
    "    # Add each member to the HTML as an option in the dropdown menu\n",
    "    for member in sorted_data['Member Name'].unique():\n",
    "        member_id = re.sub('\\W+','', member)  # Replace all non-alphanumeric characters with ''\n",
    "        member_info = sorted_data[sorted_data['Member Name'] == member].iloc[0]\n",
    "        member_detail = f\"{member} - {member_info['Chamber']} {member_info['District #']} - {member_info['Party']}\"\n",
    "        html += f\"\"\"\n",
    "                <option value=\"{member_id}\">{member_detail}</option>\n",
    "        \"\"\"\n",
    "\n",
    "    # Close the select, div and body tags\n",
    "    html += \"\"\"\n",
    "            </select>\n",
    "        </div>\n",
    "    </body>\n",
    "    </html>\n",
    "    \"\"\"\n",
    "\n",
    "    # Add a modal for each member\n",
    "    for member in sorted_data['Member Name'].unique():\n",
    "        member_id = re.sub('\\W+','', member)  # Replace all non-alphanumeric characters with ''\n",
    "        # Filter the data for the current member\n",
    "        member_data = sorted_data[sorted_data['Member Name'] == member]\n",
    "\n",
    "        # Calculate the sum of the contributions\n",
    "        total_contributions = \"{:,}\".format(member_data['contributionAmount'].sum())\n",
    "\n",
    "        # Sort the contributions in descending order of the first column\n",
    "        member_data = member_data.sort_values(by=columns[0], ascending=False)\n",
    "\n",
    "        # Create a HTML table with the member's contributions\n",
    "        table = member_data[columns].to_html(index=False, classes='table table-striped')\n",
    "\n",
    "        member_info = member_data.iloc[0]\n",
    "        member_detail = f\"{member} - {member_info['Chamber']} {member_info['District #']} - {member_info['Party']}\"\n",
    "\n",
    "        # Add the modal to the HTML\n",
    "        html = html.replace(\"</body>\", f\"\"\"\n",
    "        <!-- {member} Modal -->\n",
    "        <div class=\"modal fade\" id=\"{member_id}Modal\" tabindex=\"-1\" role=\"dialog\" aria-labelledby=\"{member_id}ModalLabel\" aria-hidden=\"true\">\n",
    "            <div class=\"modal-dialog modal-xl\" role=\"document\">\n",
    "                <div class=\"modal-content\">\n",
    "                    <div class=\"modal-header\">\n",
    "                        <h5 class=\"modal-title\" id=\"{member_id}ModalLabel\">{member_detail}'s Contributions - Total: ${total_contributions}</h5>\n",
    "                        <button type=\"button\" class=\"close\" data-dismiss=\"modal\" aria-label=\"Close\">\n",
    "                            <span aria-hidden=\"true\">&times;</span>\n",
    "                        </button>\n",
    "                    </div>\n",
    "                    <div class=\"modal-body\">\n",
    "                        {table}\n",
    "                    </div>\n",
    "                    <div class=\"modal-footer\">\n",
    "                        <button type=\"button\" class=\"btn btn-secondary\" data-dismiss=\"modal\">Close</button>\n",
    "                    </div>\n",
    "                </div>\n",
    "            </div>\n",
    "        </div>\n",
    "        </body>\n",
    "        \"\"\")\n",
    "\n",
    "    # Add a script to open the modal when a member is selected\n",
    "    html = html.replace(\"</body>\", f\"\"\"\n",
    "    <script>\n",
    "        function openModal(member) {{\n",
    "            $('#'+member+'Modal').modal('show');\n",
    "        }}\n",
    "    </script>\n",
    "    </body>\n",
    "    \"\"\")\n",
    "\n",
    "    # Save the HTML to a file\n",
    "    with open(output_file, 'w') as f:\n",
    "        f.write(html)\n",
    "\n",
    "# Define the columns to include in the tables\n",
    "columns = ['receivedDt', 'contributionAmount', 'contributorNameOrganization', 'contributionInfoId', 'reportInfoIdent']\n",
    "\n",
    "master_txlege_contribs_df = master_txlege_contribs_df[master_txlege_contribs_df['contributorNameOrganization'].notnull()]\n",
    "\n",
    "# Use the function to generate the HTML file\n",
    "# generate_html_dropdown_updated_v2(master_txlege_contribs_df, columns, \"index.html\")\n"
   ]
  },
  {
   "cell_type": "code",
   "execution_count": 21,
   "id": "5c5019b2-ca75-4091-af3f-70b299c9e017",
   "metadata": {},
   "outputs": [],
   "source": [
    "# check to make sure donations are not double-counted, and \n",
    "# only load corrected reports if one is available\n",
    "\n",
    "from fuzzywuzzy import fuzz\n",
    "from fuzzywuzzy import process\n",
    "\n",
    "def find_similar(df, column, input_str, threshold):\n",
    "    \"\"\"\n",
    "    Find all values in a DataFrame column that are similar to an input string.\n",
    "\n",
    "    Parameters:\n",
    "    - df: DataFrame to search\n",
    "    - column: column in df to search\n",
    "    - input_str: string to search for\n",
    "    - threshold: minimum similarity score to consider a match\n",
    "\n",
    "    Returns:\n",
    "    - DataFrame with matches and similarity scores\n",
    "    \"\"\"\n",
    "    # Initialize list to hold tuples of matches and scores\n",
    "    matches = []\n",
    "\n",
    "    # Iterate over the column\n",
    "    for value in df[column].unique():\n",
    "        # Calculate similarity score\n",
    "        score = fuzz.ratio(input_str, str(value))\n",
    "\n",
    "        # If the score is above the threshold, append to matches\n",
    "        if score >= threshold:\n",
    "            matches.append((value, score))\n",
    "\n",
    "    # Create a DataFrame from the matches and sort by score\n",
    "    matches_df = pd.DataFrame(matches, columns=[column, 'Score'])\n",
    "    matches_df = matches_df.sort_values('Score', ascending=False)\n",
    "\n",
    "    return matches_df\n"
   ]
  },
  {
   "cell_type": "code",
   "execution_count": 22,
   "id": "452ae113-dc37-46f0-8435-8a1cc780d790",
   "metadata": {},
   "outputs": [],
   "source": [
    "# similar_contributors = find_similar(master_txlege_contribs_df, 'contributorNameOrganization', 'educational freedom', 55)\n",
    "\n",
    "# print(list(similar_contributors[\"contributorNameOrganization\"]))\n",
    "\n",
    "dark_money_donors = {\n",
    "    \"Charter Schools Now PAC\": ['Charter Schools Now PAC', 'Charter School Now PAC', 'TX Charter Schools Now PAC', 'Tx Charter Schools Now PAC', 'Charter Schools NOW PAC', 'Charter Schools Now Pac', 'Charter Schools Now', ' Charter Schools Now', 'Texas Charter Schools Now PAC', 'Texas Charter Schoools Now PAC', 'Texas Charter School Now PAC', 'Charter Schools Now PAC - Texas', 'Texas Charter Schools Now Pac', 'Texas Charter Schools NOW PAC', 'Texas Charter Schools Now', 'Texas Charter Schools PAC', 'Texas Charter School Now Pac', 'The Texas Charter Schools NOW PAC', 'Charter Schools Now Political Action Committee', 'Texas Charter Schools Association', 'Texas Charter Schools Now Political Action Committee', ' Texas Charter Schools Association', 'Texas Charter Schools NOW Political Action Committee', 'TCSN PAC'],\n",
    "    \"Legacy 44\": ['Legacy 44', 'Legacy #44', 'Legacy 44 PAC', 'Legacy 44 (PAC)'],\n",
    "    \"Leadership for Educational Equity\": ['Leadership for Educational Equity', 'Leadership for Educational Equity - Texas', 'Allies for Educational Equity',],\n",
    "    \"Democrats for Education Reform\": ['Democrats for Education Reform', 'Texans for Education Reform', 'Texans For Education Reform', 'Texas for Education Reform PAC', 'Texans for Education Reform PAC', 'Texas For Education Reform PAC', 'Texasns for Education Reform PAC', 'Texans for Educational Reform PAC', 'Texans For Education Reform PAC', 'Democrats for Educational Equity PAC', 'Texas Education Reform PAC',],\n",
    "    \"Texans for Educational Freedom/FFOT\": ['Texas Federation for Children PAC', ' Texas Federation for Children PAC', 'Texas Federation for Children PAC, Inc.'],\n",
    "    \"Family Empowerment Coalition\": ['Family Empowerment Coalition PAC'],\n",
    "}"
   ]
  },
  {
   "cell_type": "code",
   "execution_count": 23,
   "id": "08377f77-ee92-4ae4-af1d-620988f9ead4",
   "metadata": {},
   "outputs": [],
   "source": [
    "master_contributor_filter = []\n",
    "\n",
    "import re\n",
    "\n",
    "for org, names in dark_money_donors.items():\n",
    "    for name in names:\n",
    "        master_contributor_filter.append(name)\n",
    "\n",
    "master_txlege_contribs_df = master_txlege_contribs_df[master_txlege_contribs_df['contributorNameOrganization'].isin(master_contributor_filter)]\n",
    "\n",
    "# Use the function to generate the HTML file\n",
    "generate_html_dropdown_updated_v4(master_txlege_contribs_df, columns, \"index.html\")"
   ]
  },
  {
   "cell_type": "code",
   "execution_count": null,
   "id": "e7291f75-d49c-4354-92a8-81d528195b74",
   "metadata": {},
   "outputs": [],
   "source": []
  }
 ],
 "metadata": {
  "kernelspec": {
   "display_name": "Python 3 (ipykernel)",
   "language": "python",
   "name": "python3"
  },
  "language_info": {
   "codemirror_mode": {
    "name": "ipython",
    "version": 3
   },
   "file_extension": ".py",
   "mimetype": "text/x-python",
   "name": "python",
   "nbconvert_exporter": "python",
   "pygments_lexer": "ipython3",
   "version": "3.11.3"
  }
 },
 "nbformat": 4,
 "nbformat_minor": 5
}
